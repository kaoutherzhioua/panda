{
  "nbformat": 4,
  "nbformat_minor": 0,
  "metadata": {
    "colab": {
      "name": "Untitled6.ipynb",
      "provenance": []
    },
    "kernelspec": {
      "display_name": "Python 3",
      "name": "python3"
    },
    "language_info": {
      "name": "python"
    }
  },
  "cells": [
    {
      "cell_type": "code",
      "metadata": {
        "colab": {
          "base_uri": "https://localhost:8080/"
        },
        "id": "GODW--lZjM8T",
        "outputId": "63e06341-963a-4fa7-d497-4b74440de26e"
      },
      "source": [
        "\n",
        "\n",
        "import pandas as pd\n",
        "import numpy as np\n",
        "exam_data = {'name': ['Anastasia',\n",
        "                      'Dima',\n",
        "                      'Katherine',\n",
        "                      'James',\n",
        "                      'Emily',\n",
        "                      'Michael',\n",
        "                      'Matthew',\n",
        "                      'Laura',\n",
        "                      'Kevin',\n",
        "                      'Jonas'],\n",
        "             'score': [12.5, 9, 16.5, np.nan, 9, 20, 14.5, np.nan, 8, 19],\n",
        "             'attempts': [1, 3, 2, 3, 2, 3, 1, 1, 2, 1],\n",
        "             'qualify': ['yes', 'no', 'yes', 'no', 'no', 'yes', 'yes', 'no', 'no', 'yes']}\n",
        "labels = ['a', 'b', 'c', 'd', 'e', 'f', 'g', 'h', 'i', 'j']\n",
        "df = pd.DataFrame(exam_data, labels)\n",
        "print(df.head(3))\n",
        "\n"
      ],
      "execution_count": 2,
      "outputs": [
        {
          "output_type": "stream",
          "text": [
            "        name  score  attempts qualify\n",
            "a  Anastasia   12.5         1     yes\n",
            "b       Dima    9.0         3      no\n",
            "c  Katherine   16.5         2     yes\n"
          ],
          "name": "stdout"
        }
      ]
    },
    {
      "cell_type": "code",
      "metadata": {
        "colab": {
          "base_uri": "https://localhost:8080/"
        },
        "id": "jxEVE-ZoHv7O",
        "outputId": "945cd9c4-cbe3-44fe-97e8-37cb1b10c84d"
      },
      "source": [
        "\n",
        "\n",
        "import pandas as pd\n",
        "import numpy as np\n",
        "exam_data = {'name': ['Anastasia',\n",
        "                      'Dima',\n",
        "                      'Katherine',\n",
        "                      'James',\n",
        "                      'Emily',\n",
        "                      'Michael',\n",
        "                      'Matthew',\n",
        "                      'Laura',\n",
        "                      'Kevin',\n",
        "                      'Jonas'],\n",
        "             'score': [12.5, 9, 16.5, np.nan, 9, 20, 14.5, np.nan, 8, 19],\n",
        "             'attempts': [1, 3, 2, 3, 2, 3, 1, 1, 2, 1],\n",
        "             'qualify': ['yes', 'no', 'yes', 'no', 'no', 'yes', 'yes', 'no', 'no', 'yes']}\n",
        "labels = ['a', 'b', 'c', 'd', 'e', 'f', 'g', 'h', 'i', 'j']\n",
        "df = pd.DataFrame(exam_data, labels)\n",
        "df=df.dropna()\n",
        "print(df)"
      ],
      "execution_count": 3,
      "outputs": [
        {
          "output_type": "stream",
          "text": [
            "        name  score  attempts qualify\n",
            "a  Anastasia   12.5         1     yes\n",
            "b       Dima    9.0         3      no\n",
            "c  Katherine   16.5         2     yes\n",
            "e      Emily    9.0         2      no\n",
            "f    Michael   20.0         3     yes\n",
            "g    Matthew   14.5         1     yes\n",
            "i      Kevin    8.0         2      no\n",
            "j      Jonas   19.0         1     yes\n"
          ],
          "name": "stdout"
        }
      ]
    },
    {
      "cell_type": "code",
      "metadata": {
        "colab": {
          "base_uri": "https://localhost:8080/"
        },
        "id": "TonIqEOiRUOh",
        "outputId": "b937df93-47b8-4a6b-b5fc-e5d57691a3f1"
      },
      "source": [
        "\n",
        "\n",
        "import pandas as pd\n",
        "import numpy as np\n",
        "exam_data = {'name': ['Anastasia',\n",
        "                      'Dima',\n",
        "                      'Katherine',\n",
        "                      'James',\n",
        "                      'Emily',\n",
        "                      'Michael',\n",
        "                      'Matthew',\n",
        "                      'Laura',\n",
        "                      'Kevin',\n",
        "                      'Jonas'],\n",
        "             'score': [12.5, 9, 16.5, np.nan, 9, 20, 14.5, np.nan, 8, 19],\n",
        "             'attempts': [1, 3, 2, 3, 2, 3, 1, 1, 2, 1],\n",
        "             'qualify': ['yes', 'no', 'yes', 'no', 'no', 'yes', 'yes', 'no', 'no', 'yes']}\n",
        "labels = ['a', 'b', 'c', 'd', 'e', 'f', 'g', 'h', 'i', 'j']\n",
        "df = pd.DataFrame(exam_data, labels)\n",
        "ad=df[[\"name\",\"score\"]]\n",
        "print(df)"
      ],
      "execution_count": 4,
      "outputs": [
        {
          "output_type": "stream",
          "text": [
            "        name  score  attempts qualify\n",
            "a  Anastasia   12.5         1     yes\n",
            "b       Dima    9.0         3      no\n",
            "c  Katherine   16.5         2     yes\n",
            "d      James    NaN         3      no\n",
            "e      Emily    9.0         2      no\n",
            "f    Michael   20.0         3     yes\n",
            "g    Matthew   14.5         1     yes\n",
            "h      Laura    NaN         1      no\n",
            "i      Kevin    8.0         2      no\n",
            "j      Jonas   19.0         1     yes\n"
          ],
          "name": "stdout"
        }
      ]
    },
    {
      "cell_type": "code",
      "metadata": {
        "colab": {
          "base_uri": "https://localhost:8080/"
        },
        "id": "Byt-Te1_R4kh",
        "outputId": "9a7724ea-a5af-4830-dfa9-ef71f7e7c689"
      },
      "source": [
        "\n",
        "\n",
        "import pandas as pd\n",
        "import numpy as np\n",
        "exam_data = {'name': ['Anastasia',\n",
        "                      'Dima',\n",
        "                      'Katherine',\n",
        "                      'James',\n",
        "                      'Emily',\n",
        "                      'Michael',\n",
        "                      'Matthew',\n",
        "                      'Laura',\n",
        "                      'Kevin',\n",
        "                      'Jonas'],\n",
        "             'score': [12.5, 9, 16.5, np.nan, 9, 20, 14.5, np.nan, 8, 19],\n",
        "             'attempts': [1, 3, 2, 3, 2, 3, 1, 1, 2, 1],\n",
        "             'qualify': ['yes', 'no', 'yes', 'no', 'no', 'yes', 'yes', 'no', 'no', 'yes']}\n",
        "labels = ['a', 'b', 'c', 'd', 'e', 'f', 'g', 'h', 'i', 'j']\n",
        "df = pd.DataFrame(exam_data, labels)\n",
        "data={\"name\" : \"Suresh\", \"score\": 15.5, \"attempts\": 1, \"qualify\": \"yes\"}\n",
        "newlabel=[\"k\"]\n",
        "df1=pd.DataFrame(data,newlabel)\n",
        "data1=pd.concat([df,df1])\n",
        "print(data1)"
      ],
      "execution_count": 6,
      "outputs": [
        {
          "output_type": "stream",
          "text": [
            "        name  score  attempts qualify\n",
            "a  Anastasia   12.5         1     yes\n",
            "b       Dima    9.0         3      no\n",
            "c  Katherine   16.5         2     yes\n",
            "d      James    NaN         3      no\n",
            "e      Emily    9.0         2      no\n",
            "f    Michael   20.0         3     yes\n",
            "g    Matthew   14.5         1     yes\n",
            "h      Laura    NaN         1      no\n",
            "i      Kevin    8.0         2      no\n",
            "j      Jonas   19.0         1     yes\n",
            "k     Suresh   15.5         1     yes\n"
          ],
          "name": "stdout"
        }
      ]
    },
    {
      "cell_type": "code",
      "metadata": {
        "colab": {
          "base_uri": "https://localhost:8080/"
        },
        "id": "oN61tE0jTqn5",
        "outputId": "d73bfae6-d121-4e19-9e79-e1c0d930ac83"
      },
      "source": [
        "\n",
        "\n",
        "import pandas as pd\n",
        "import numpy as np\n",
        "exam_data = {'name': ['Anastasia',\n",
        "                      'Dima',\n",
        "                      'Katherine',\n",
        "                      'James',\n",
        "                      'Emily',\n",
        "                      'Michael',\n",
        "                      'Matthew',\n",
        "                      'Laura',\n",
        "                      'Kevin',\n",
        "                      'Jonas'],\n",
        "             'score': [12.5, 9, 16.5, np.nan, 9, 20, 14.5, np.nan, 8, 19],\n",
        "             'attempts': [1, 3, 2, 3, 2, 3, 1, 1, 2, 1],\n",
        "             'qualify': ['yes', 'no', 'yes', 'no', 'no', 'yes', 'yes', 'no', 'no', 'yes']}\n",
        "labels = ['a', 'b', 'c', 'd', 'e', 'f', 'g', 'h', 'i', 'j']\n",
        "df = pd.DataFrame(exam_data, labels)\n",
        "df=df.drop(\"attempts\",axis=1)\n",
        "print(df)"
      ],
      "execution_count": 7,
      "outputs": [
        {
          "output_type": "stream",
          "text": [
            "        name  score qualify\n",
            "a  Anastasia   12.5     yes\n",
            "b       Dima    9.0      no\n",
            "c  Katherine   16.5     yes\n",
            "d      James    NaN      no\n",
            "e      Emily    9.0      no\n",
            "f    Michael   20.0     yes\n",
            "g    Matthew   14.5     yes\n",
            "h      Laura    NaN      no\n",
            "i      Kevin    8.0      no\n",
            "j      Jonas   19.0     yes\n"
          ],
          "name": "stdout"
        }
      ]
    },
    {
      "cell_type": "code",
      "metadata": {
        "colab": {
          "base_uri": "https://localhost:8080/"
        },
        "id": "ZBpzR8KXUg2S",
        "outputId": "da4fbfb3-620d-4a1d-c76c-98a901dde811"
      },
      "source": [
        "\n",
        "\n",
        "import pandas as pd\n",
        "import numpy as np\n",
        "exam_data = {'name': ['Anastasia',\n",
        "                      'Dima',\n",
        "                      'Katherine',\n",
        "                      'James',\n",
        "                      'Emily',\n",
        "                      'Michael',\n",
        "                      'Matthew',\n",
        "                      'Laura',\n",
        "                      'Kevin',\n",
        "                      'Jonas'],\n",
        "             'score': [12.5, 9, 16.5, np.nan, 9, 20, 14.5, np.nan, 8, 19],\n",
        "             'attempts': [1, 3, 2, 3, 2, 3, 1, 1, 2, 1],\n",
        "             'qualify': ['yes', 'no', 'yes', 'no', 'no', 'yes', 'yes', 'no', 'no', 'yes']}\n",
        "labels = ['a', 'b', 'c', 'd', 'e', 'f', 'g', 'h', 'i', 'j']\n",
        "df = pd.DataFrame(exam_data, labels)\n",
        "df.loc[df['score']<10,\"Success\"]=0\n",
        "df.loc[df['score']>10,\"Success\"]=1\n",
        "print(df)"
      ],
      "execution_count": 9,
      "outputs": [
        {
          "output_type": "stream",
          "text": [
            "        name  score  attempts qualify  Success\n",
            "a  Anastasia   12.5         1     yes      1.0\n",
            "b       Dima    9.0         3      no      0.0\n",
            "c  Katherine   16.5         2     yes      1.0\n",
            "d      James    NaN         3      no      NaN\n",
            "e      Emily    9.0         2      no      0.0\n",
            "f    Michael   20.0         3     yes      1.0\n",
            "g    Matthew   14.5         1     yes      1.0\n",
            "h      Laura    NaN         1      no      NaN\n",
            "i      Kevin    8.0         2      no      0.0\n",
            "j      Jonas   19.0         1     yes      1.0\n"
          ],
          "name": "stdout"
        }
      ]
    },
    {
      "cell_type": "code",
      "metadata": {
        "colab": {
          "base_uri": "https://localhost:8080/"
        },
        "id": "hQvVy3NAWM9k",
        "outputId": "3b384300-e270-4c2a-e82e-35d9d0a7bf0f"
      },
      "source": [
        "\n",
        "\n",
        "import pandas as pd\n",
        "import numpy as np\n",
        "exam_data = {'name': ['Anastasia',\n",
        "                      'Dima',\n",
        "                      'Katherine',\n",
        "                      'James',\n",
        "                      'Emily',\n",
        "                      'Michael',\n",
        "                      'Matthew',\n",
        "                      'Laura',\n",
        "                      'Kevin',\n",
        "                      'Jonas'],\n",
        "             'score': [12.5, 9, 16.5, np.nan, 9, 20, 14.5, np.nan, 8, 19],\n",
        "             'attempts': [1, 3, 2, 3, 2, 3, 1, 1, 2, 1],\n",
        "             'qualify': ['yes', 'no', 'yes', 'no', 'no', 'yes', 'yes', 'no', 'no', 'yes']}\n",
        "labels = ['a', 'b', 'c', 'd', 'e', 'f', 'g', 'h', 'i', 'j']\n",
        "df = pd.DataFrame(exam_data, labels)\n",
        "df.loc[df['score']<10,\"Success\"]=0\n",
        "df.loc[df['score']>10,\"Success\"]=1\n",
        "df.to_csv('my_data')\n",
        "my_data=pd.read_csv('my_data')\n",
        "print(my_data)"
      ],
      "execution_count": 13,
      "outputs": [
        {
          "output_type": "stream",
          "text": [
            "  Unnamed: 0       name  score  attempts qualify  Success\n",
            "0          a  Anastasia   12.5         1     yes      1.0\n",
            "1          b       Dima    9.0         3      no      0.0\n",
            "2          c  Katherine   16.5         2     yes      1.0\n",
            "3          d      James    NaN         3      no      NaN\n",
            "4          e      Emily    9.0         2      no      0.0\n",
            "5          f    Michael   20.0         3     yes      1.0\n",
            "6          g    Matthew   14.5         1     yes      1.0\n",
            "7          h      Laura    NaN         1      no      NaN\n",
            "8          i      Kevin    8.0         2      no      0.0\n",
            "9          j      Jonas   19.0         1     yes      1.0\n"
          ],
          "name": "stdout"
        }
      ]
    }
  ]
}